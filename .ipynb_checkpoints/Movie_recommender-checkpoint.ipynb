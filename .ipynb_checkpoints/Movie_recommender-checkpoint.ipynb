{
 "cells": [
  {
   "cell_type": "markdown",
   "metadata": {},
   "source": [
    "\n",
    "# Business Understanding:\n",
    "In a data-driven world, businesses aim to personalize user experiences to boost engagement, satisfaction, and revenue. For a movie streaming platform, a recommendation system can provide tailored suggestions based on user preferences and behavior. This project focuses on building a movie recommender system using collaborative filtering, matrix factorization, and a hybrid model to enhance recommendation quality and precision, ultimately improving user experience and platform engagement.\n",
    "\n",
    "`Business Question:\n",
    "How can we build a recommendation system to provide personalized movie suggestions to users, improving engagement and satisfaction?`\n",
    "\n",
    "## Problem Statement:\n",
    "The movie streaming platform needs a recommendation system to:\n",
    "\n",
    "-Develop a robust recommendation system that utilizes user and item interactions (ratings) and metadata (genres) to predict user preferences and generate personalized movie recommendations.\n",
    "\n",
    "-Enhance customer satisfaction and retention by providing personalized movie suggestions.\n",
    "\n",
    "-Increase user engagement, conversion rates, and platform revenue.\n",
    "\n",
    "-Address the \"cold start problem\" for new users and movies with limited interaction data.\n",
    "\n",
    "-Overcome the limitations of current recommendation methods in capturing the dynamics between users and movies, ensuring \n",
    "recommendations are relevant and diverse. The system must balance accuracy, scalability, and real-time processing to deliver seamless recommendations.\n",
    "\n",
    "## Objectives:\n",
    "\n",
    "-Collaborative Filtering: Develop a model that recommends movies based on user-item interactions, such as ratings and viewing history.\n",
    "\n",
    "-Matrix Factorization: Apply techniques like Singular Value Decomposition (SVD) to uncover latent factors in user-movie relationships, improving predictions.\n",
    "\n",
    "-Hybrid Model: Combine collaborative filtering and matrix factorization to leverage the strengths of both approaches, improving recommendation accuracy and coverage.\n",
    "\n",
    "-Cold Start Problem: Address challenges of recommending movies to new users and suggesting newly added movies with limited data.\n",
    "-Performance Optimization: Ensure the system is scalable and capable of providing real-time, personalized recommendations.\n",
    "\n",
    "-Model Evaluation: Measure and compare model effectiveness using precision, recall, and F1 score to evaluate the accuracy of the recommendations.\n",
    "## Success Criteria:\n",
    "-Improved Accuracy: The hybrid model should outperform collaborative filtering and matrix factorization methods in terms of precision, recall, and user satisfaction.\n",
    "\n",
    "-Cold Start Handling: The system should offer meaningful recommendations for new users and movies with minimal performance drop.\n",
    "\n",
    "-Scalability: The recommendation system must scale efficiently as the platform grows, ensuring responsiveness even as the number of users and movies increases.\n",
    "\n",
    "-Increased Engagement: There should be a measurable increase in user interactions with recommended movies (e.g., views, ratings, or watch time).\n",
    "\n",
    "-Business Impact: The system should contribute to key business metrics such as increased subscriptions, user retention, and overall revenue.\n",
    "\n",
    "## Reasons and Importance of Models:\n",
    "\n",
    "#### Collaborative Filtering:\n",
    "\n",
    "-Reason: Collaborative filtering leverages historical user-item interactions (e.g., ratings, watch history) to make personalized recommendations.\n",
    "\n",
    "-Importance: It helps identify similar users and suggests movies based on what others with similar tastes have liked, improving user satisfaction and engagement.\n",
    "\n",
    "#### Matrix Factorization:\n",
    "\n",
    "-Reason: Matrix factorization techniques like Singular Value Decomposition (SVD) decompose the user-movie interaction matrix into latent factors, revealing hidden relationships between users and movies.\n",
    "\n",
    "-Importance: It enables the system to make better predictions, especially in sparse datasets (where many user-movie interactions are missing), enhancing recommendation accuracy.`\n",
    "\n",
    "#### Hybrid Model:\n",
    "\n",
    "-Reason: A hybrid model combines the strengths of both collaborative filtering and matrix factorization to overcome their individual weaknesses, such as the cold start problem in collaborative filtering.\n",
    "\n",
    "-Importance: Hybrid models improve recommendation robustness by integrating multiple techniques, ensuring more diverse and accurate movie recommendations across different user profiles.\n",
    "\n",
    "`By utilizing these models, the movie recommender system will be more effective, engaging, and scalable, ultimately leading to a better user experience and helping the platform achieve its key business goals.`"
   ]
  },
  {
   "cell_type": "code",
   "execution_count": null,
   "metadata": {},
   "outputs": [],
   "source": []
  },
  {
   "cell_type": "markdown",
   "metadata": {},
   "source": [
    "###### Surprise\n",
    "\n",
    "- Python library specifically designed for building and evaluating recommender systems, supporting collaborative filtering, matrix factorization, and other algorithms to predict user-item interactions."
   ]
  },
  {
   "cell_type": "code",
   "execution_count": 1,
   "metadata": {},
   "outputs": [
    {
     "name": "stdout",
     "output_type": "stream",
     "text": [
      "Requirement already satisfied: surprise in c:\\users\\chris noel\\anaconda3\\envs\\learn-env\\lib\\site-packages (0.1)\n",
      "Requirement already satisfied: scikit-surprise in c:\\users\\chris noel\\anaconda3\\envs\\learn-env\\lib\\site-packages (from surprise) (1.1.1)\n",
      "Requirement already satisfied: joblib>=0.11 in c:\\users\\chris noel\\anaconda3\\envs\\learn-env\\lib\\site-packages (from scikit-surprise->surprise) (0.17.0)\n",
      "Requirement already satisfied: numpy>=1.11.2 in c:\\users\\chris noel\\anaconda3\\envs\\learn-env\\lib\\site-packages (from scikit-surprise->surprise) (1.18.5)\n",
      "Requirement already satisfied: scipy>=1.0.0 in c:\\users\\chris noel\\anaconda3\\envs\\learn-env\\lib\\site-packages (from scikit-surprise->surprise) (1.5.0)\n",
      "Requirement already satisfied: six>=1.10.0 in c:\\users\\chris noel\\anaconda3\\envs\\learn-env\\lib\\site-packages (from scikit-surprise->surprise) (1.15.0)\n"
     ]
    }
   ],
   "source": [
    "!pip install surprise"
   ]
  },
  {
   "cell_type": "code",
   "execution_count": 2,
   "metadata": {},
   "outputs": [],
   "source": [
    "\n",
    "import pandas as pd ## data manipulation and analysis,\n",
    "import numpy as np #multi-dimensional arrays and matrices\n",
    "import matplotlib.pyplot as plt #Visualisation \n",
    "import seaborn as sns #Enhanced data visualization\n",
    "from sklearn.metrics import mean_squared_error, mean_absolute_error #assess model accuracy.\n",
    "from surprise import Reader, Dataset, KNNBaseline, SVD #Recommender system algorithms\n",
    "from surprise.model_selection import train_test_split  #Splitting datasets for training/testing  \n",
    "from surprise import accuracy #Evaluate recommender system predictions  \n",
    "from collections import defaultdict #Efficient key-value pair operations\n",
    "from sklearn.feature_extraction.text import TfidfVectorizer #Text vectorization (TF-IDF)  \n",
    "from sklearn.metrics.pairwise import cosine_similarity #Similarity computation (cosine-based)\n"
   ]
  },
  {
   "cell_type": "markdown",
   "metadata": {},
   "source": [
    "###### Loading of the datasets"
   ]
  },
  {
   "cell_type": "code",
   "execution_count": 3,
   "metadata": {},
   "outputs": [],
   "source": [
    "df2 = pd.read_csv(\"movies.csv\")\n",
    "df3 = pd.read_csv(\"ratings.csv\")"
   ]
  },
  {
   "cell_type": "markdown",
   "metadata": {},
   "source": [
    "### Data Understanding\n",
    "###### MOVIE-dataset\n",
    "-`Data Overview:` The dataset contains 9,742 rows and 3 columns: movieId (integer), title (string), and genres (string). All columns have non-null values, with movieId being unique for each entry.\n",
    "\n",
    "-`Summary Statistics:` The movieId values range from 1 to 193,609, with a mean value of 42,200, and the most frequent genre is \"Drama\" (appearing 1,053 times). The dataset has minimal missing data, and the most common movie title is \"Confessions of a Dangerous Mind (2002)\" which appears twice.\n",
    "\n",
    "-`Shape and Uniqueness:` The dataset has a shape of (9742, 3), with movieId containing 9742 unique values, title having 9737 unique values (indicating some duplicate titles), and genres having 951 unique genre types.\n",
    "\n",
    "-`No Duplicates:` There are no duplicate movieId values in the dataset, but some movie titles are repeated, suggesting potential cases where the same movie appears with slightly different versions or formats.\n",
    "\n",
    "###### RATINGS-dataset\n",
    "-`Data Overview:` The ratings dataset contains 100,836 rows and 4 columns: userId (integer), movieId (integer), rating (float), and timestamp (integer). All columns have non-null values, and the data is structured to track movie ratings by users.\n",
    "\n",
    "-`Summary Statistics:` The userId ranges from 1 to 610, with a mean value of 326, and the movieId spans from 1 to 193,609, covering a wide range of movies. The average rating is 3.5 (on a 1-5 scale), and the most frequent timestamp corresponds to the period around 1.2 billion seconds since January 1970.\n",
    "\n",
    "-`Shape and Uniqueness:` The dataset has a shape of (100836, 4), with userId containing 610 unique values, movieId containing 9,724 unique movie identifiers, and rating having 10 possible unique rating values. The timestamp column has 85,043 unique values, showing a diverse set of rating times.\n",
    "\n",
    "-`No Duplicates:` There are no duplicate rows in the dataset, ensuring that each rating is unique for a given userId and movieId combination, although there may be multiple ratings by the same user for different movies."
   ]
  },
  {
   "cell_type": "code",
   "execution_count": 4,
   "metadata": {},
   "outputs": [
    {
     "name": "stdout",
     "output_type": "stream",
     "text": [
      "Dataset: movies\n",
      "\n",
      "Info:\n",
      "<class 'pandas.core.frame.DataFrame'>\n",
      "RangeIndex: 9742 entries, 0 to 9741\n",
      "Data columns (total 3 columns):\n",
      " #   Column   Non-Null Count  Dtype \n",
      "---  ------   --------------  ----- \n",
      " 0   movieId  9742 non-null   int64 \n",
      " 1   title    9742 non-null   object\n",
      " 2   genres   9742 non-null   object\n",
      "dtypes: int64(1), object(2)\n",
      "memory usage: 228.5+ KB\n",
      "None\n",
      "\n",
      "Description:\n",
      "              movieId            title genres\n",
      "count     9742.000000             9742   9742\n",
      "unique            NaN             9737    951\n",
      "top               NaN  Saturn 3 (1980)  Drama\n",
      "freq              NaN                2   1053\n",
      "mean     42200.353623              NaN    NaN\n",
      "std      52160.494854              NaN    NaN\n",
      "min          1.000000              NaN    NaN\n",
      "25%       3248.250000              NaN    NaN\n",
      "50%       7300.000000              NaN    NaN\n",
      "75%      76232.000000              NaN    NaN\n",
      "max     193609.000000              NaN    NaN\n",
      "\n",
      "Shape:\n",
      "(9742, 3)\n",
      "\n",
      "Columns:\n",
      "['movieId', 'title', 'genres']\n",
      "\n",
      "Unique Values per Column:\n",
      "movieId: 9742 unique values\n",
      "title: 9737 unique values\n",
      "genres: 951 unique values\n",
      "\n",
      "Number of Duplicates:\n",
      "0\n",
      "\n",
      "==================================================\n",
      "\n",
      "Dataset: ratings\n",
      "\n",
      "Info:\n",
      "<class 'pandas.core.frame.DataFrame'>\n",
      "RangeIndex: 100836 entries, 0 to 100835\n",
      "Data columns (total 4 columns):\n",
      " #   Column     Non-Null Count   Dtype  \n",
      "---  ------     --------------   -----  \n",
      " 0   userId     100836 non-null  int64  \n",
      " 1   movieId    100836 non-null  int64  \n",
      " 2   rating     100836 non-null  float64\n",
      " 3   timestamp  100836 non-null  int64  \n",
      "dtypes: float64(1), int64(3)\n",
      "memory usage: 3.1 MB\n",
      "None\n",
      "\n",
      "Description:\n",
      "              userId        movieId         rating     timestamp\n",
      "count  100836.000000  100836.000000  100836.000000  1.008360e+05\n",
      "mean      326.127564   19435.295718       3.501557  1.205946e+09\n",
      "std       182.618491   35530.987199       1.042529  2.162610e+08\n",
      "min         1.000000       1.000000       0.500000  8.281246e+08\n",
      "25%       177.000000    1199.000000       3.000000  1.019124e+09\n",
      "50%       325.000000    2991.000000       3.500000  1.186087e+09\n",
      "75%       477.000000    8122.000000       4.000000  1.435994e+09\n",
      "max       610.000000  193609.000000       5.000000  1.537799e+09\n",
      "\n",
      "Shape:\n",
      "(100836, 4)\n",
      "\n",
      "Columns:\n",
      "['userId', 'movieId', 'rating', 'timestamp']\n",
      "\n",
      "Unique Values per Column:\n",
      "userId: 610 unique values\n",
      "movieId: 9724 unique values\n",
      "rating: 10 unique values\n",
      "timestamp: 85043 unique values\n",
      "\n",
      "Number of Duplicates:\n",
      "0\n",
      "\n",
      "==================================================\n",
      "\n"
     ]
    }
   ],
   "source": [
    "datasets = {'movies': df2, 'ratings': df3}\n",
    "\n",
    "for name, df in datasets.items():\n",
    "    print(f\"Dataset: {name}\")\n",
    "    print(\"\\nInfo:\")\n",
    "    print(df.info())\n",
    "    print(\"\\nDescription:\")\n",
    "    print(df.describe(include='all'))  # Include all types of columns\n",
    "    print(\"\\nShape:\")\n",
    "    print(df.shape)\n",
    "    print(\"\\nColumns:\")\n",
    "    print(df.columns.tolist())\n",
    "    print(\"\\nUnique Values per Column:\")\n",
    "    for col in df.columns:\n",
    "        print(f\"{col}: {df[col].nunique()} unique values\")\n",
    "    print(\"\\nNumber of Duplicates:\")\n",
    "    print(df.duplicated().sum())\n",
    "    print(\"\\n\" + \"=\"*50 + \"\\n\")"
   ]
  },
  {
   "cell_type": "code",
   "execution_count": 5,
   "metadata": {},
   "outputs": [
    {
     "data": {
      "text/html": [
       "<div>\n",
       "<style scoped>\n",
       "    .dataframe tbody tr th:only-of-type {\n",
       "        vertical-align: middle;\n",
       "    }\n",
       "\n",
       "    .dataframe tbody tr th {\n",
       "        vertical-align: top;\n",
       "    }\n",
       "\n",
       "    .dataframe thead th {\n",
       "        text-align: right;\n",
       "    }\n",
       "</style>\n",
       "<table border=\"1\" class=\"dataframe\">\n",
       "  <thead>\n",
       "    <tr style=\"text-align: right;\">\n",
       "      <th></th>\n",
       "      <th>movieId</th>\n",
       "      <th>title</th>\n",
       "      <th>genres</th>\n",
       "    </tr>\n",
       "  </thead>\n",
       "  <tbody>\n",
       "    <tr>\n",
       "      <th>0</th>\n",
       "      <td>1</td>\n",
       "      <td>Toy Story (1995)</td>\n",
       "      <td>Adventure|Animation|Children|Comedy|Fantasy</td>\n",
       "    </tr>\n",
       "    <tr>\n",
       "      <th>1</th>\n",
       "      <td>2</td>\n",
       "      <td>Jumanji (1995)</td>\n",
       "      <td>Adventure|Children|Fantasy</td>\n",
       "    </tr>\n",
       "    <tr>\n",
       "      <th>2</th>\n",
       "      <td>3</td>\n",
       "      <td>Grumpier Old Men (1995)</td>\n",
       "      <td>Comedy|Romance</td>\n",
       "    </tr>\n",
       "    <tr>\n",
       "      <th>3</th>\n",
       "      <td>4</td>\n",
       "      <td>Waiting to Exhale (1995)</td>\n",
       "      <td>Comedy|Drama|Romance</td>\n",
       "    </tr>\n",
       "    <tr>\n",
       "      <th>4</th>\n",
       "      <td>5</td>\n",
       "      <td>Father of the Bride Part II (1995)</td>\n",
       "      <td>Comedy</td>\n",
       "    </tr>\n",
       "    <tr>\n",
       "      <th>...</th>\n",
       "      <td>...</td>\n",
       "      <td>...</td>\n",
       "      <td>...</td>\n",
       "    </tr>\n",
       "    <tr>\n",
       "      <th>9737</th>\n",
       "      <td>193581</td>\n",
       "      <td>Black Butler: Book of the Atlantic (2017)</td>\n",
       "      <td>Action|Animation|Comedy|Fantasy</td>\n",
       "    </tr>\n",
       "    <tr>\n",
       "      <th>9738</th>\n",
       "      <td>193583</td>\n",
       "      <td>No Game No Life: Zero (2017)</td>\n",
       "      <td>Animation|Comedy|Fantasy</td>\n",
       "    </tr>\n",
       "    <tr>\n",
       "      <th>9739</th>\n",
       "      <td>193585</td>\n",
       "      <td>Flint (2017)</td>\n",
       "      <td>Drama</td>\n",
       "    </tr>\n",
       "    <tr>\n",
       "      <th>9740</th>\n",
       "      <td>193587</td>\n",
       "      <td>Bungo Stray Dogs: Dead Apple (2018)</td>\n",
       "      <td>Action|Animation</td>\n",
       "    </tr>\n",
       "    <tr>\n",
       "      <th>9741</th>\n",
       "      <td>193609</td>\n",
       "      <td>Andrew Dice Clay: Dice Rules (1991)</td>\n",
       "      <td>Comedy</td>\n",
       "    </tr>\n",
       "  </tbody>\n",
       "</table>\n",
       "<p>9742 rows × 3 columns</p>\n",
       "</div>"
      ],
      "text/plain": [
       "      movieId                                      title  \\\n",
       "0           1                           Toy Story (1995)   \n",
       "1           2                             Jumanji (1995)   \n",
       "2           3                    Grumpier Old Men (1995)   \n",
       "3           4                   Waiting to Exhale (1995)   \n",
       "4           5         Father of the Bride Part II (1995)   \n",
       "...       ...                                        ...   \n",
       "9737   193581  Black Butler: Book of the Atlantic (2017)   \n",
       "9738   193583               No Game No Life: Zero (2017)   \n",
       "9739   193585                               Flint (2017)   \n",
       "9740   193587        Bungo Stray Dogs: Dead Apple (2018)   \n",
       "9741   193609        Andrew Dice Clay: Dice Rules (1991)   \n",
       "\n",
       "                                           genres  \n",
       "0     Adventure|Animation|Children|Comedy|Fantasy  \n",
       "1                      Adventure|Children|Fantasy  \n",
       "2                                  Comedy|Romance  \n",
       "3                            Comedy|Drama|Romance  \n",
       "4                                          Comedy  \n",
       "...                                           ...  \n",
       "9737              Action|Animation|Comedy|Fantasy  \n",
       "9738                     Animation|Comedy|Fantasy  \n",
       "9739                                        Drama  \n",
       "9740                             Action|Animation  \n",
       "9741                                       Comedy  \n",
       "\n",
       "[9742 rows x 3 columns]"
      ]
     },
     "execution_count": 5,
     "metadata": {},
     "output_type": "execute_result"
    }
   ],
   "source": [
    "#remove duplicate rows\n",
    "df2.drop_duplicates(subset=['title', 'genres'])"
   ]
  },
  {
   "cell_type": "markdown",
   "metadata": {},
   "source": [
    "#### Importance of the Datasets\n",
    "-`Movies Dataset:` The movies dataset contains essential metadata like movieId, title, and genres, enabling the system to categorize and recommend films based on genres or other attributes. This helps provide meaningful movie suggestions for users.\n",
    "\n",
    "-`Ratings Dataset:` The ratings dataset holds critical user data, including userId, movieId, rating, and timestamp, enabling the system to track user preferences and understand movie perceptions. It forms the core of personalized recommendations by evaluating user ratings.\n",
    "\n",
    "`Collaborative Filtering:` The ratings dataset is crucial for collaborative filtering, which identifies patterns and similarities between users or items to generate personalized recommendations. This method leverages user-item interaction data for better movie suggestions.\n",
    "\n",
    "-`Cold Start Problem:` The movies dataset helps mitigate the cold start problem by offering genre information for new movies or users with limited interaction data, facilitating more accurate recommendations even with sparse data.\n",
    "\n",
    "-`Hybrid Model:` By combining the genres from the movies dataset with collaborative filtering from the ratings dataset, a hybrid model can generate more precise and diverse recommendations, enhancing the system’s overall performance.\n",
    "\n",
    "-`System Foundation:` Together, the movies and ratings datasets form the backbone of a robust recommendation system, enabling both content-based and collaborative filtering approaches to deliver accurate, personalized movie recommendations to users."
   ]
  },
  {
   "cell_type": "markdown",
   "metadata": {},
   "source": [
    "### MERGER--ratings&movies\n",
    "-ratings and movies, is merged on the movieId column using an inner join.\n",
    "\n",
    "-An inner join was used to merge the two DataFrames based on movieId, ensuring only movies that have both ratings and metadata (title/genres) are included, excluding entries with missing data in either DataFrame.\n",
    "\n",
    "-`Shape:` The resulting DataFrame has 100,836 entries and 6 columns.\n",
    "\n",
    "-`Columns`: contains columns: `userId, movieId, rating, timestamp, title, and genres`.\n",
    "\n",
    "-`Data Types:` The columns contain data types: int64 for identifiers, float64 for ratings, and object for movie title and genres.\n",
    "\n",
    "-`Summary Statistics:` Basic descriptive statistics show mean ratings of 3.5, with a rating range from 0.5 to 5.\n",
    "\n",
    "-`Value Counts:`  100,836 entries, each representing a unique rating event, with a mix of ratings across various movies and genres.\n",
    "\n",
    "-`Unique Entries:` The data includes various combinations of userId, movieId, rating, and timestamp for different movies, showing no duplicates or repeated entries.\n",
    "\n",
    "-`Duplicated Entries:` no duplicated rows."
   ]
  },
  {
   "cell_type": "code",
   "execution_count": 6,
   "metadata": {},
   "outputs": [],
   "source": [
    "# merging of the two dataframes\n",
    "movies = df2\n",
    "ratings = df3\n",
    "merged_df = pd.merge(ratings, movies, on='movieId', how='inner')\n"
   ]
  },
  {
   "cell_type": "code",
   "execution_count": 7,
   "metadata": {},
   "outputs": [],
   "source": [
    "merged_df.to_excel('film_analysis.xlsx', index=False)"
   ]
  },
  {
   "cell_type": "code",
   "execution_count": 8,
   "metadata": {},
   "outputs": [
    {
     "name": "stdout",
     "output_type": "stream",
     "text": [
      "<class 'pandas.core.frame.DataFrame'>\n",
      "Int64Index: 100836 entries, 0 to 100835\n",
      "Data columns (total 6 columns):\n",
      " #   Column     Non-Null Count   Dtype  \n",
      "---  ------     --------------   -----  \n",
      " 0   userId     100836 non-null  int64  \n",
      " 1   movieId    100836 non-null  int64  \n",
      " 2   rating     100836 non-null  float64\n",
      " 3   timestamp  100836 non-null  int64  \n",
      " 4   title      100836 non-null  object \n",
      " 5   genres     100836 non-null  object \n",
      "dtypes: float64(1), int64(3), object(2)\n",
      "memory usage: 5.4+ MB\n"
     ]
    }
   ],
   "source": [
    "# dataframe Summary \n",
    "merged_df.info()"
   ]
  },
  {
   "cell_type": "code",
   "execution_count": 9,
   "metadata": {},
   "outputs": [
    {
     "data": {
      "text/html": [
       "<div>\n",
       "<style scoped>\n",
       "    .dataframe tbody tr th:only-of-type {\n",
       "        vertical-align: middle;\n",
       "    }\n",
       "\n",
       "    .dataframe tbody tr th {\n",
       "        vertical-align: top;\n",
       "    }\n",
       "\n",
       "    .dataframe thead th {\n",
       "        text-align: right;\n",
       "    }\n",
       "</style>\n",
       "<table border=\"1\" class=\"dataframe\">\n",
       "  <thead>\n",
       "    <tr style=\"text-align: right;\">\n",
       "      <th></th>\n",
       "      <th>userId</th>\n",
       "      <th>movieId</th>\n",
       "      <th>rating</th>\n",
       "      <th>timestamp</th>\n",
       "    </tr>\n",
       "  </thead>\n",
       "  <tbody>\n",
       "    <tr>\n",
       "      <th>count</th>\n",
       "      <td>100836.000000</td>\n",
       "      <td>100836.000000</td>\n",
       "      <td>100836.000000</td>\n",
       "      <td>1.008360e+05</td>\n",
       "    </tr>\n",
       "    <tr>\n",
       "      <th>mean</th>\n",
       "      <td>326.127564</td>\n",
       "      <td>19435.295718</td>\n",
       "      <td>3.501557</td>\n",
       "      <td>1.205946e+09</td>\n",
       "    </tr>\n",
       "    <tr>\n",
       "      <th>std</th>\n",
       "      <td>182.618491</td>\n",
       "      <td>35530.987199</td>\n",
       "      <td>1.042529</td>\n",
       "      <td>2.162610e+08</td>\n",
       "    </tr>\n",
       "    <tr>\n",
       "      <th>min</th>\n",
       "      <td>1.000000</td>\n",
       "      <td>1.000000</td>\n",
       "      <td>0.500000</td>\n",
       "      <td>8.281246e+08</td>\n",
       "    </tr>\n",
       "    <tr>\n",
       "      <th>25%</th>\n",
       "      <td>177.000000</td>\n",
       "      <td>1199.000000</td>\n",
       "      <td>3.000000</td>\n",
       "      <td>1.019124e+09</td>\n",
       "    </tr>\n",
       "    <tr>\n",
       "      <th>50%</th>\n",
       "      <td>325.000000</td>\n",
       "      <td>2991.000000</td>\n",
       "      <td>3.500000</td>\n",
       "      <td>1.186087e+09</td>\n",
       "    </tr>\n",
       "    <tr>\n",
       "      <th>75%</th>\n",
       "      <td>477.000000</td>\n",
       "      <td>8122.000000</td>\n",
       "      <td>4.000000</td>\n",
       "      <td>1.435994e+09</td>\n",
       "    </tr>\n",
       "    <tr>\n",
       "      <th>max</th>\n",
       "      <td>610.000000</td>\n",
       "      <td>193609.000000</td>\n",
       "      <td>5.000000</td>\n",
       "      <td>1.537799e+09</td>\n",
       "    </tr>\n",
       "  </tbody>\n",
       "</table>\n",
       "</div>"
      ],
      "text/plain": [
       "              userId        movieId         rating     timestamp\n",
       "count  100836.000000  100836.000000  100836.000000  1.008360e+05\n",
       "mean      326.127564   19435.295718       3.501557  1.205946e+09\n",
       "std       182.618491   35530.987199       1.042529  2.162610e+08\n",
       "min         1.000000       1.000000       0.500000  8.281246e+08\n",
       "25%       177.000000    1199.000000       3.000000  1.019124e+09\n",
       "50%       325.000000    2991.000000       3.500000  1.186087e+09\n",
       "75%       477.000000    8122.000000       4.000000  1.435994e+09\n",
       "max       610.000000  193609.000000       5.000000  1.537799e+09"
      ]
     },
     "execution_count": 9,
     "metadata": {},
     "output_type": "execute_result"
    }
   ],
   "source": [
    "# Descriptive Statistics\n",
    "merged_df.describe()"
   ]
  },
  {
   "cell_type": "code",
   "execution_count": 10,
   "metadata": {},
   "outputs": [
    {
     "data": {
      "text/plain": [
       "(100836, 6)"
      ]
     },
     "execution_count": 10,
     "metadata": {},
     "output_type": "execute_result"
    }
   ],
   "source": [
    "#dataFrame Dimensions\n",
    "merged_df.shape"
   ]
  },
  {
   "cell_type": "code",
   "execution_count": 11,
   "metadata": {},
   "outputs": [
    {
     "data": {
      "text/plain": [
       "Index(['userId', 'movieId', 'rating', 'timestamp', 'title', 'genres'], dtype='object')"
      ]
     },
     "execution_count": 11,
     "metadata": {},
     "output_type": "execute_result"
    }
   ],
   "source": [
    "#Dtaframe columns\n",
    "merged_df.columns"
   ]
  },
  {
   "cell_type": "markdown",
   "metadata": {},
   "source": [
    "`userId`: Unique identifier for users.\n",
    "\n",
    "`movieId`: Unique identifier for movies.\n",
    "\n",
    "`rating`: Ratings given by users (float).\n",
    "\n",
    "`timestamp`: Time when the rating was recorded.\n",
    "\n",
    "`title`: Title of the movie, including release year.\n",
    "\n",
    "`genres`: Pipe-separated genres for the movie."
   ]
  },
  {
   "cell_type": "code",
   "execution_count": 12,
   "metadata": {},
   "outputs": [
    {
     "data": {
      "text/plain": [
       "userId  movieId  rating  timestamp   title                                                                                           genres                                     \n",
       "610     170875   3.0     1493846415  The Fate of the Furious (2017)                                                                  Action|Crime|Drama|Thriller                    1\n",
       "227     54259    2.5     1447210634  Stardust (2007)                                                                                 Adventure|Comedy|Fantasy|Romance               1\n",
       "        55721    5.0     1447210041  Elite Squad (Tropa de Elite) (2007)                                                             Action|Crime|Drama|Thriller                    1\n",
       "        55820    4.0     1447209881  No Country for Old Men (2007)                                                                   Crime|Drama                                    1\n",
       "        56367    4.5     1447210824  Juno (2007)                                                                                     Comedy|Drama|Romance                           1\n",
       "                                                                                                                                                                                   ..\n",
       "434     4873     4.5     1270605083  Waking Life (2001)                                                                              Animation|Drama|Fantasy                        1\n",
       "        4878     5.0     1270606749  Donnie Darko (2001)                                                                             Drama|Mystery|Sci-Fi|Thriller                  1\n",
       "        4886     4.5     1270604658  Monsters, Inc. (2001)                                                                           Adventure|Animation|Children|Comedy|Fantasy    1\n",
       "        4896     2.5     1270604915  Harry Potter and the Sorcerer's Stone (a.k.a. Harry Potter and the Philosopher's Stone) (2001)  Adventure|Children|Fantasy                     1\n",
       "1       1        4.0     964982703   Toy Story (1995)                                                                                Adventure|Animation|Children|Comedy|Fantasy    1\n",
       "Length: 100836, dtype: int64"
      ]
     },
     "execution_count": 12,
     "metadata": {},
     "output_type": "execute_result"
    }
   ],
   "source": [
    "# counting the occurrences of unique values\n",
    "merged_df.value_counts()"
   ]
  },
  {
   "cell_type": "code",
   "execution_count": 13,
   "metadata": {},
   "outputs": [
    {
     "data": {
      "text/plain": [
       "0"
      ]
     },
     "execution_count": 13,
     "metadata": {},
     "output_type": "execute_result"
    }
   ],
   "source": [
    "#Duplicated rows\n",
    "merged_df.duplicated().sum()"
   ]
  }
 ],
 "metadata": {
  "kernelspec": {
   "display_name": "Python (learn-env)",
   "language": "python",
   "name": "learn-env"
  },
  "language_info": {
   "codemirror_mode": {
    "name": "ipython",
    "version": 3
   },
   "file_extension": ".py",
   "mimetype": "text/x-python",
   "name": "python",
   "nbconvert_exporter": "python",
   "pygments_lexer": "ipython3",
   "version": "3.8.5"
  }
 },
 "nbformat": 4,
 "nbformat_minor": 4
}
